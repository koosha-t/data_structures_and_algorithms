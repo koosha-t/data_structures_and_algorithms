{
 "cells": [
  {
   "cell_type": "markdown",
   "metadata": {},
   "source": [
    "8.1 __Triple Step__: A child is running up a staricase with n steps and can hop either 1 step, 2 steps, or 3 steps at a time. Implement a method to count how many possible ways the child can run up the stairs."
   ]
  },
  {
   "cell_type": "code",
   "execution_count": 1,
   "metadata": {},
   "outputs": [],
   "source": [
    "class stairs:\n",
    "    def __init__(self, n):\n",
    "        self.n = n\n",
    "        self.ways = [0] * self.n\n",
    "        self.ways[0] = 1\n",
    "        self.ways[1] = 2\n",
    "        self.ways[2] = 4\n",
    "        for i in range(3,n):\n",
    "            self.ways[i] = self.ways[i-1] + self.ways[i-2] + self.ways[i-3]\n",
    "            \n",
    "    def numberOfWays(self, k):\n",
    "        return self.ways[k]"
   ]
  },
  {
   "cell_type": "code",
   "execution_count": 2,
   "metadata": {},
   "outputs": [],
   "source": [
    "s = stairs(10)"
   ]
  },
  {
   "cell_type": "code",
   "execution_count": 3,
   "metadata": {},
   "outputs": [
    {
     "data": {
      "text/plain": [
       "274"
      ]
     },
     "execution_count": 3,
     "metadata": {},
     "output_type": "execute_result"
    }
   ],
   "source": [
    "s.numberOfWays(9)"
   ]
  },
  {
   "cell_type": "markdown",
   "metadata": {},
   "source": [
    "8.2 __Robot in a Grid__: Imagine a robot sitting on the upper left corner of grid with r rows and c columns. The robot can only move in two directions, right and down, but certain celss are \"off limits\" such that the rebot cannot step on them. Design an algorithm to find a path for the robot from the top left to the bottom right."
   ]
  },
  {
   "cell_type": "code",
   "execution_count": 53,
   "metadata": {},
   "outputs": [],
   "source": [
    "import numpy as np\n",
    "\n",
    "class Grid:\n",
    "    def __init__(self, r,c):\n",
    "        self.r = r\n",
    "        self.c = c\n",
    "        self.grid = np.zeros(shape=(r,c))\n",
    "        \n",
    "    def block(self, i , j):\n",
    "        self.grid[i][j] = -1\n",
    "     \n",
    "    def _exist(self,i,j):\n",
    "        return i>=0 and i<self.r and j>=0 and j<self.c and self.grid[i][j]==0\n",
    "        \n",
    "    def findPath(self,x1,y1,x2,y2,path):\n",
    "        self.grid[x1][y1] = 1\n",
    "        if x1==x2 and y1==y2:\n",
    "            return True,path\n",
    "        if self._exist(x1+1,y1):\n",
    "            path.append((x1+1,y1))\n",
    "            flag, p =self.findPath(x1+1,y1,x2,y2,path)\n",
    "            if flag:\n",
    "                return True,p\n",
    "            else:\n",
    "                path.pop()\n",
    "        if self._exist(x1,y1+1):\n",
    "            path.append((x1,y1+1))\n",
    "            flag,p = self.findPath(x1,y1+1,x2,y2,path)\n",
    "            if flag:\n",
    "                return True,p\n",
    "            else:\n",
    "                path.pop()\n",
    "        return False,None\n",
    "        "
   ]
  },
  {
   "cell_type": "code",
   "execution_count": 69,
   "metadata": {},
   "outputs": [],
   "source": [
    "g = Grid(10,10)"
   ]
  },
  {
   "cell_type": "code",
   "execution_count": 70,
   "metadata": {},
   "outputs": [],
   "source": [
    "g.block(9,8)\n",
    "g.block(8,9)\n",
    "g.block(2,0)\n",
    "g.block(4,1)\n",
    "g.block(8,0)\n",
    "g.block(8,2)\n",
    "path = [(0,0)]"
   ]
  },
  {
   "cell_type": "code",
   "execution_count": 71,
   "metadata": {},
   "outputs": [],
   "source": [
    "flag, path = g.findPath(0,0,9,9,path)"
   ]
  },
  {
   "cell_type": "code",
   "execution_count": 72,
   "metadata": {},
   "outputs": [
    {
     "data": {
      "text/plain": [
       "False"
      ]
     },
     "execution_count": 72,
     "metadata": {},
     "output_type": "execute_result"
    }
   ],
   "source": [
    "flag"
   ]
  },
  {
   "cell_type": "code",
   "execution_count": 73,
   "metadata": {},
   "outputs": [],
   "source": [
    "path"
   ]
  },
  {
   "cell_type": "markdown",
   "metadata": {},
   "source": [
    "8.3 __Magic Index__: A magic index in an array A[0...n-1] is defined to be an nindex such that A[i] = i. Given a sorted array of distinct integers, write a method to find a magic index, if one exists, in Array A.\n",
    "\n"
   ]
  },
  {
   "cell_type": "code",
   "execution_count": 156,
   "metadata": {},
   "outputs": [],
   "source": [
    "def magicIndex(sortedArray, minInd, maxInd, magics):\n",
    "    if maxInd-minInd < 0:\n",
    "        pass\n",
    "    elif maxInd-minInd == 0:\n",
    "        if(sortedArray[minInd] == minInd):\n",
    "            magics.append(minInd)\n",
    "    else:\n",
    "        midInd = int((maxInd - minInd)/2)+minInd\n",
    "        if sortedArray[midInd] == midInd:\n",
    "            magics.append(midInd)   \n",
    "        magicIndex(sortedArray, minInd,midInd -1,magics)\n",
    "        magicIndex(sortedArray, midInd+1, maxInd,magics)\n"
   ]
  },
  {
   "cell_type": "code",
   "execution_count": 164,
   "metadata": {},
   "outputs": [],
   "source": [
    "a = [0,1,2,4,5,5,7,7,7,8,10,10,11,11,11]\n",
    "m = []"
   ]
  },
  {
   "cell_type": "code",
   "execution_count": 165,
   "metadata": {},
   "outputs": [],
   "source": [
    "magicIndex(a,0,14,m)"
   ]
  },
  {
   "cell_type": "code",
   "execution_count": 166,
   "metadata": {},
   "outputs": [
    {
     "data": {
      "text/plain": [
       "[7, 1, 0, 2, 5, 10]"
      ]
     },
     "execution_count": 166,
     "metadata": {},
     "output_type": "execute_result"
    }
   ],
   "source": [
    "m"
   ]
  },
  {
   "cell_type": "markdown",
   "metadata": {},
   "source": [
    "8.4 __Power Set__ : Write a metho to return all subsets of a set"
   ]
  },
  {
   "cell_type": "code",
   "execution_count": 6,
   "metadata": {},
   "outputs": [],
   "source": [
    "class BinaryCounter:\n",
    "    def __init__(self, n):\n",
    "        self.n = n\n",
    "        self.counter = [0] * n\n",
    "        \n",
    "    def increment(self):\n",
    "        self.counter[0]+=1\n",
    "        for i in range(self.n):\n",
    "            if self.counter[i] > 1:\n",
    "                self.counter[i] = 0\n",
    "                if i+1<self.n:\n",
    "                    self.counter[i+1]+=1\n",
    "    \n",
    "    def isZero(self):\n",
    "        return sum(self.counter)==0\n",
    "    \n",
    "    \n",
    "    def show(self):\n",
    "        for i in range(self.n-1,-1,-1):\n",
    "            print(self.counter[i], end=\"\")"
   ]
  },
  {
   "cell_type": "code",
   "execution_count": 7,
   "metadata": {},
   "outputs": [],
   "source": [
    "class Set:\n",
    "    def __init__(self, elements):\n",
    "        self.elements = elements\n",
    "        self.n = len(self.elements)\n",
    "        \n",
    "    def subsets(self):\n",
    "        subsets = list()\n",
    "        subsets.append([])\n",
    "        bc = BinaryCounter(self.n)\n",
    "        bc.increment()\n",
    "        while not bc.isZero():\n",
    "            ss = list()\n",
    "            for i in range(0, self.n):\n",
    "                if bc.counter[i] == 1:\n",
    "                    ss.append(self.elements[i])\n",
    "            subsets.append(ss)\n",
    "            bc.increment()\n",
    "        return subsets\n",
    "        "
   ]
  },
  {
   "cell_type": "code",
   "execution_count": 8,
   "metadata": {},
   "outputs": [],
   "source": [
    "s = Set([1,2,3])"
   ]
  },
  {
   "cell_type": "code",
   "execution_count": 9,
   "metadata": {},
   "outputs": [
    {
     "data": {
      "text/plain": [
       "[[], [1], [2], [1, 2], [3], [1, 3], [2, 3], [1, 2, 3]]"
      ]
     },
     "execution_count": 9,
     "metadata": {},
     "output_type": "execute_result"
    }
   ],
   "source": [
    "s.subsets()"
   ]
  },
  {
   "cell_type": "code",
   "execution_count": 10,
   "metadata": {},
   "outputs": [
    {
     "data": {
      "text/plain": [
       "[1, 2, 3]"
      ]
     },
     "execution_count": 10,
     "metadata": {},
     "output_type": "execute_result"
    }
   ],
   "source": [
    "s.elements"
   ]
  },
  {
   "cell_type": "code",
   "execution_count": null,
   "metadata": {},
   "outputs": [],
   "source": []
  },
  {
   "cell_type": "markdown",
   "metadata": {},
   "source": [
    "8.5 __Recursive Multiply__: Write a recursive function to multiply two numbers without using the * operator.You can use addition, substraciton, and bit shifting, but you should minimize the number of those operations."
   ]
  },
  {
   "cell_type": "code",
   "execution_count": 265,
   "metadata": {},
   "outputs": [],
   "source": [
    "def mul(x,y):\n",
    "    if x==0 or y==0:\n",
    "        return 0\n",
    "    if x==1:\n",
    "        return y\n",
    "    if y == 1:\n",
    "        return x\n",
    "    if x < y:\n",
    "        return y + mul(x-1,y)\n",
    "    else:\n",
    "        return x + mul(x,y-1)"
   ]
  },
  {
   "cell_type": "code",
   "execution_count": 266,
   "metadata": {},
   "outputs": [
    {
     "data": {
      "text/plain": [
       "20"
      ]
     },
     "execution_count": 266,
     "metadata": {},
     "output_type": "execute_result"
    }
   ],
   "source": [
    "mul(5,4)"
   ]
  },
  {
   "cell_type": "code",
   "execution_count": 267,
   "metadata": {},
   "outputs": [
    {
     "data": {
      "text/plain": [
       "88"
      ]
     },
     "execution_count": 267,
     "metadata": {},
     "output_type": "execute_result"
    }
   ],
   "source": [
    "mul(8,11)"
   ]
  },
  {
   "cell_type": "markdown",
   "metadata": {},
   "source": [
    "8.6 __Towers of Hanoi:__ In the classic problem of the Twoers of Hanoi, you have 3 towers and N disks of different sizes which can slide onto any tower. The puzzle starts with disks sorted in ascending order of size from top to bottom (i.e. each disk sits on top of an even larger one). You have the folloing constraints:\n",
    "(1) Only one disk can be moved at a time.\n",
    "(2) A disk is slid off the top of one tower on any of the other two towers.\n",
    "(3) A disk can only be placed on top of a larger disk.\n",
    "Write a program to move the disks from the first tower to the last one"
   ]
  },
  {
   "cell_type": "code",
   "execution_count": 296,
   "metadata": {},
   "outputs": [],
   "source": [
    "class Tower:\n",
    "    def __init__(self, n, name):\n",
    "        self.name = name\n",
    "        self.disks = [0]*n\n",
    "        for i in range(n):\n",
    "            self.disks[i] = n - i\n",
    "            \n",
    "    def add(self, newDisk):\n",
    "        if len(self.disks)==0:\n",
    "            self.disks.append(newDisk)\n",
    "            return True\n",
    "        elif newDisk>=self.disks[-1]:\n",
    "            return False\n",
    "        else:\n",
    "            self.disks.append(newDisk)\n",
    "            return True\n",
    "\n",
    "            \n",
    "def moveDisks(n, leftTower, midTower, rightTower):\n",
    "    if n==1:\n",
    "        d = leftTower.disks.pop()\n",
    "        rightTower.add(d)\n",
    "        print(\"moving disk {0} from tower {1} to tower{2}\".format(d,leftTower.name, rightTower.name))\n",
    "    elif n>1:\n",
    "        moveDisks(n-1,leftTower, rightTower, midTower)\n",
    "        d = leftTower.disks.pop()\n",
    "        rightTower.add(d)\n",
    "        print(\"moving disk {0} from tower {1} to tower{2}\".format(d,leftTower.name, rightTower.name))\n",
    "        moveDisks(n-1,midTower, leftTower, rightTower)\n",
    "        "
   ]
  },
  {
   "cell_type": "code",
   "execution_count": 322,
   "metadata": {},
   "outputs": [],
   "source": [
    "towerA = Tower(3,'A')\n",
    "towerB = Tower(0,'B')\n",
    "towerC = Tower(0,'C')\n"
   ]
  },
  {
   "cell_type": "code",
   "execution_count": 323,
   "metadata": {},
   "outputs": [
    {
     "data": {
      "text/plain": [
       "[3, 2, 1]"
      ]
     },
     "execution_count": 323,
     "metadata": {},
     "output_type": "execute_result"
    }
   ],
   "source": [
    "towerA.disks"
   ]
  },
  {
   "cell_type": "code",
   "execution_count": 324,
   "metadata": {},
   "outputs": [
    {
     "name": "stdout",
     "output_type": "stream",
     "text": [
      "moving disk 1 from tower A to towerC\n",
      "moving disk 2 from tower A to towerB\n",
      "moving disk 1 from tower C to towerB\n",
      "moving disk 3 from tower A to towerC\n",
      "moving disk 1 from tower B to towerA\n",
      "moving disk 2 from tower B to towerC\n",
      "moving disk 1 from tower A to towerC\n"
     ]
    }
   ],
   "source": [
    "moveDisks(3,towerA, towerB, towerC)"
   ]
  },
  {
   "cell_type": "markdown",
   "metadata": {},
   "source": [
    "8.7/8.8 __Permutation Without/with Dups__: Write a method to compute all permutations of a string of unique characters"
   ]
  },
  {
   "cell_type": "code",
   "execution_count": 332,
   "metadata": {},
   "outputs": [],
   "source": [
    "def permutations(s,prefix):\n",
    "    if len(s)==0:\n",
    "        print(prefix+s)\n",
    "    dic = {}\n",
    "    for i in range(len(s)):\n",
    "        if prefix+s[i] not in dic:\n",
    "            permutations(s[0:i]+s[i+1:],prefix+s[i])\n",
    "            dic[prefix+s[i]]=True\n",
    "        "
   ]
  },
  {
   "cell_type": "code",
   "execution_count": 338,
   "metadata": {},
   "outputs": [
    {
     "name": "stdout",
     "output_type": "stream",
     "text": [
      "12221\n",
      "12212\n",
      "12122\n",
      "11222\n",
      "21221\n",
      "21212\n",
      "21122\n",
      "22121\n",
      "22112\n",
      "22211\n"
     ]
    }
   ],
   "source": [
    "permutations(\"12221\",\"\")"
   ]
  },
  {
   "cell_type": "markdown",
   "metadata": {},
   "source": [
    " 8.9 __Parens__: Implement an algorithm to print all valid combinations of n pairs of parenthesis."
   ]
  },
  {
   "cell_type": "code",
   "execution_count": 2,
   "metadata": {},
   "outputs": [],
   "source": [
    "def parens(closed,opens,n,combSofar):\n",
    "    if closed == n:\n",
    "         print(combSofar)\n",
    "    elif opens==n and closed<n:\n",
    "        parens(closed+1,opens,n, combSofar + \")\")\n",
    "    elif opens<n and opens==closed:\n",
    "        parens(closed, opens+1,n,combSofar + \"(\")\n",
    "    elif opens < n and opens > closed:\n",
    "        parens(closed , opens+1, n, combSofar + \"(\")\n",
    "        parens(closed+1, opens, n, combSofar + \")\")"
   ]
  },
  {
   "cell_type": "code",
   "execution_count": 5,
   "metadata": {},
   "outputs": [
    {
     "name": "stdout",
     "output_type": "stream",
     "text": [
      "((()))\n",
      "(()())\n",
      "(())()\n",
      "()(())\n",
      "()()()\n"
     ]
    }
   ],
   "source": [
    "parens(0,0,3,\"\")"
   ]
  },
  {
   "cell_type": "markdown",
   "metadata": {},
   "source": [
    "8.10 __PaintFill__: Implement the \"paint fill\" function that oonoe might see on many image editing programs. That is, given a screen (represented by a two-dimentional array of colors), a point, and a new color, fill in the surrounding area until the color changes froom the original color."
   ]
  },
  {
   "cell_type": "code",
   "execution_count": 6,
   "metadata": {},
   "outputs": [],
   "source": [
    "class PaintScreen:\n",
    "    def __init__(self, r, c):\n",
    "        self.r = r\n",
    "        self.c = c\n",
    "        self.screen = np.zeros(shape=(self.r,self.c))\n",
    "        \n",
    "    def _exist(self,i,j):\n",
    "        return i>=0 and i<self.r and j>=0 and j<self.c\n",
    "    \n",
    "    def _neighbors(self,i,j):\n",
    "        nei = list()\n",
    "        if self._exist(i+1,j):\n",
    "            nei.append((i+1,j))\n",
    "        if self._exist(i,j+1):\n",
    "            nei.append((i,j+1))\n",
    "        if self._exist(i-1,j):\n",
    "            nei.append((i-1,j))\n",
    "        if self._exist(i,j-1):\n",
    "            nei.append((i,j-1))\n",
    "\n",
    "        \n",
    "    def paintFill(self, i,j,color, prevCol):\n",
    "        if self.screen[i][j] is not prevCol:\n",
    "            return\n",
    "        else:\n",
    "            self.screen[i][j] = color\n",
    "            for x,y in self._neighbors(i,j):\n",
    "                paintFill(x,y)\n",
    "        "
   ]
  },
  {
   "cell_type": "markdown",
   "metadata": {},
   "source": [
    "8.11 __Coins__: Given an infinite number of quarters (25 cents), dimes (10 cents), nickels (5 cents), and pennies(1 cent), write code to calculate the number of ways of representing n cents."
   ]
  },
  {
   "cell_type": "code",
   "execution_count": 6,
   "metadata": {},
   "outputs": [],
   "source": [
    " def getWays(value, coins):\n",
    "        ways = [0] * (value+1)\n",
    "        ways[0] = 1\n",
    "        \n",
    "        for c in coins:\n",
    "            for v in range(value+1):\n",
    "                if c<=v:\n",
    "                    ways[v] += ways[v-c]\n",
    "                    \n",
    "        return ways"
   ]
  },
  {
   "cell_type": "code",
   "execution_count": 14,
   "metadata": {},
   "outputs": [],
   "source": [
    "ways = getWays(9,[1,3])"
   ]
  },
  {
   "cell_type": "code",
   "execution_count": 15,
   "metadata": {},
   "outputs": [
    {
     "data": {
      "text/plain": [
       "[1, 1, 1, 2, 2, 2, 3, 3, 3, 4]"
      ]
     },
     "execution_count": 15,
     "metadata": {},
     "output_type": "execute_result"
    }
   ],
   "source": [
    "ways"
   ]
  },
  {
   "cell_type": "markdown",
   "metadata": {},
   "source": [
    "8.12 __Eight Queens__: Write an algorithm to pring all ways of arranging eight queens on an 8 * 8 chess board so that none of them threatens one another"
   ]
  },
  {
   "cell_type": "code",
   "execution_count": 1,
   "metadata": {},
   "outputs": [],
   "source": [
    "def threaten(x1,y1,x2,y2):\n",
    "    return x1==x2 or y1==y2 or x2-x1==y2-y1 or x2-x1 == y1 - y2\n",
    "\n",
    "def showBoard(queens, r,c):\n",
    "    for i in range(r):\n",
    "        for j in range(c):\n",
    "            if (i,j) in queens:\n",
    "                print(\"*\", end=\" \")\n",
    "            else:\n",
    "                print(\"-\", end=\" \")\n",
    "        print()\n",
    "\n",
    "def placeQueens(r,c,queens,n):\n",
    "    if len(queens)==n:\n",
    "        showBoard(queens, r, c)\n",
    "        print()\n",
    "    else:\n",
    "        for i in range(r):\n",
    "            for j in range(c):\n",
    "                flag = False\n",
    "                for (qx, qy) in queens:\n",
    "                    flag = threaten(qx,qy,i,j)\n",
    "                    if flag:\n",
    "                        break\n",
    "                if not flag:\n",
    "                    placeQueens(r,c,queens+[(i,j)],n)"
   ]
  },
  {
   "cell_type": "code",
   "execution_count": 2,
   "metadata": {},
   "outputs": [
    {
     "name": "stdout",
     "output_type": "stream",
     "text": [
      "- * - - \n",
      "- - - * \n",
      "* - - - \n",
      "- - * - \n",
      "\n",
      "- * - - \n",
      "- - - * \n",
      "* - - - \n",
      "- - * - \n",
      "\n",
      "- * - - \n",
      "- - - * \n",
      "* - - - \n",
      "- - * - \n",
      "\n",
      "- * - - \n",
      "- - - * \n",
      "* - - - \n",
      "- - * - \n",
      "\n",
      "- * - - \n",
      "- - - * \n",
      "* - - - \n",
      "- - * - \n",
      "\n",
      "- * - - \n",
      "- - - * \n",
      "* - - - \n",
      "- - * - \n",
      "\n",
      "- - * - \n",
      "* - - - \n",
      "- - - * \n",
      "- * - - \n",
      "\n",
      "- - * - \n",
      "* - - - \n",
      "- - - * \n",
      "- * - - \n",
      "\n",
      "- - * - \n",
      "* - - - \n",
      "- - - * \n",
      "- * - - \n",
      "\n",
      "- - * - \n",
      "* - - - \n",
      "- - - * \n",
      "- * - - \n",
      "\n",
      "- - * - \n",
      "* - - - \n",
      "- - - * \n",
      "- * - - \n",
      "\n",
      "- - * - \n",
      "* - - - \n",
      "- - - * \n",
      "- * - - \n",
      "\n",
      "- - * - \n",
      "* - - - \n",
      "- - - * \n",
      "- * - - \n",
      "\n",
      "- - * - \n",
      "* - - - \n",
      "- - - * \n",
      "- * - - \n",
      "\n",
      "- - * - \n",
      "* - - - \n",
      "- - - * \n",
      "- * - - \n",
      "\n",
      "- - * - \n",
      "* - - - \n",
      "- - - * \n",
      "- * - - \n",
      "\n",
      "- - * - \n",
      "* - - - \n",
      "- - - * \n",
      "- * - - \n",
      "\n",
      "- - * - \n",
      "* - - - \n",
      "- - - * \n",
      "- * - - \n",
      "\n",
      "- * - - \n",
      "- - - * \n",
      "* - - - \n",
      "- - * - \n",
      "\n",
      "- * - - \n",
      "- - - * \n",
      "* - - - \n",
      "- - * - \n",
      "\n",
      "- * - - \n",
      "- - - * \n",
      "* - - - \n",
      "- - * - \n",
      "\n",
      "- * - - \n",
      "- - - * \n",
      "* - - - \n",
      "- - * - \n",
      "\n",
      "- * - - \n",
      "- - - * \n",
      "* - - - \n",
      "- - * - \n",
      "\n",
      "- * - - \n",
      "- - - * \n",
      "* - - - \n",
      "- - * - \n",
      "\n",
      "- * - - \n",
      "- - - * \n",
      "* - - - \n",
      "- - * - \n",
      "\n",
      "- * - - \n",
      "- - - * \n",
      "* - - - \n",
      "- - * - \n",
      "\n",
      "- * - - \n",
      "- - - * \n",
      "* - - - \n",
      "- - * - \n",
      "\n",
      "- * - - \n",
      "- - - * \n",
      "* - - - \n",
      "- - * - \n",
      "\n",
      "- * - - \n",
      "- - - * \n",
      "* - - - \n",
      "- - * - \n",
      "\n",
      "- * - - \n",
      "- - - * \n",
      "* - - - \n",
      "- - * - \n",
      "\n",
      "- - * - \n",
      "* - - - \n",
      "- - - * \n",
      "- * - - \n",
      "\n",
      "- - * - \n",
      "* - - - \n",
      "- - - * \n",
      "- * - - \n",
      "\n",
      "- - * - \n",
      "* - - - \n",
      "- - - * \n",
      "- * - - \n",
      "\n",
      "- - * - \n",
      "* - - - \n",
      "- - - * \n",
      "- * - - \n",
      "\n",
      "- - * - \n",
      "* - - - \n",
      "- - - * \n",
      "- * - - \n",
      "\n",
      "- - * - \n",
      "* - - - \n",
      "- - - * \n",
      "- * - - \n",
      "\n",
      "- - * - \n",
      "* - - - \n",
      "- - - * \n",
      "- * - - \n",
      "\n",
      "- - * - \n",
      "* - - - \n",
      "- - - * \n",
      "- * - - \n",
      "\n",
      "- - * - \n",
      "* - - - \n",
      "- - - * \n",
      "- * - - \n",
      "\n",
      "- - * - \n",
      "* - - - \n",
      "- - - * \n",
      "- * - - \n",
      "\n",
      "- - * - \n",
      "* - - - \n",
      "- - - * \n",
      "- * - - \n",
      "\n",
      "- - * - \n",
      "* - - - \n",
      "- - - * \n",
      "- * - - \n",
      "\n",
      "- * - - \n",
      "- - - * \n",
      "* - - - \n",
      "- - * - \n",
      "\n",
      "- * - - \n",
      "- - - * \n",
      "* - - - \n",
      "- - * - \n",
      "\n",
      "- * - - \n",
      "- - - * \n",
      "* - - - \n",
      "- - * - \n",
      "\n",
      "- * - - \n",
      "- - - * \n",
      "* - - - \n",
      "- - * - \n",
      "\n",
      "- * - - \n",
      "- - - * \n",
      "* - - - \n",
      "- - * - \n",
      "\n",
      "- * - - \n",
      "- - - * \n",
      "* - - - \n",
      "- - * - \n",
      "\n"
     ]
    }
   ],
   "source": [
    "r = 4\n",
    "c = 4\n",
    "\n",
    "for i in range(r):\n",
    "    for j in range(c):\n",
    "        placeQueens(r,c,[(i,j)],4)"
   ]
  },
  {
   "cell_type": "markdown",
   "metadata": {},
   "source": [
    "8.13 __Stack of Boxes__: You have a stack of n boxes, with widths wi, heights hi, and depths di. The boxes cannot be rotated and can only be stacked on top of one another if each box in the stack is strictly larger than the box above it in width, height and depth. implement a method to compute the height of the tallest possible stack. The height of a stack is the sum of the heights of each box."
   ]
  },
  {
   "cell_type": "markdown",
   "metadata": {},
   "source": [
    "__The knapsack problem__: Given a set of items, each with a weight and a value, determine the number of each item to include in a collection so that the total weight is less than or equal to a given limit and the total value is as large as possible."
   ]
  },
  {
   "cell_type": "code",
   "execution_count": 17,
   "metadata": {},
   "outputs": [],
   "source": [
    "class Knapsack:\n",
    "    def __init__(self, capacity, items):\n",
    "        self.capacity = capacity\n",
    "        self.items = sorted(items, key = lambda x:x[0])\n",
    "        \n",
    "    def maxValue(self):\n",
    "        maxvalues = [0] * (self.capacity + 1)\n",
    "        for i in range(self.capacity+1):\n",
    "            maxvalues[i] = int(i/self.items[0][0]) * self.items[0][1]\n",
    "        for i in range(1,len(self.items)):\n",
    "            weight = self.items[i][0]\n",
    "            value = self.items[i][1]\n",
    "            for cap in range(self.capacity+1):\n",
    "                if weight <= cap:\n",
    "                    maxvalues[cap] = max(maxvalues[cap],maxvalues[cap-weight] + value)\n",
    "        return maxvalues[self.capacity]"
   ]
  },
  {
   "cell_type": "code",
   "execution_count": 22,
   "metadata": {},
   "outputs": [],
   "source": [
    "ks = Knapsack(10, [(1,2),(2,3),(5,7),(10,8)])"
   ]
  },
  {
   "cell_type": "code",
   "execution_count": 23,
   "metadata": {},
   "outputs": [
    {
     "data": {
      "text/plain": [
       "20"
      ]
     },
     "execution_count": 23,
     "metadata": {},
     "output_type": "execute_result"
    }
   ],
   "source": [
    "ks.maxValue()"
   ]
  },
  {
   "cell_type": "code",
   "execution_count": 32,
   "metadata": {},
   "outputs": [],
   "source": [
    "class Knapsack:\n",
    "    def __init__(self, capacity, items):\n",
    "        self.capacity = capacity\n",
    "        self.items = sorted(items, key = lambda x:x[0])\n",
    "        \n",
    "    def maxValue(self):\n",
    "        maxvalues = [0] * (self.capacity + 1)\n",
    "        usedItems = dict.fromkeys(list(range(0,self.capacity+1)))\n",
    "        for i in range(self.capacity+1):\n",
    "            counts = int(i/self.items[0][0])\n",
    "            maxvalues[i] = counts * self.items[0][1]\n",
    "            usedItems[i] = list()\n",
    "            for j in range(counts):\n",
    "                usedItems[i].append(self.items[0])\n",
    "        for i in range(1,len(self.items)):\n",
    "            weight = self.items[i][0]\n",
    "            value = self.items[i][1]\n",
    "            for cap in range(self.capacity+1):\n",
    "                if weight <= cap:\n",
    "                    if maxvalues[cap-weight] + value > maxvalues[cap]:\n",
    "                        maxvalues[cap] = maxvalues[cap-weight] + value\n",
    "                        usedItems[cap] = usedItems[cap-weight] + [self.items[i]]\n",
    "        return maxvalues[self.capacity],usedItems[self.capacity]"
   ]
  },
  {
   "cell_type": "code",
   "execution_count": 59,
   "metadata": {},
   "outputs": [],
   "source": [
    "ks = Knapsack(9, [(1,1.9),(2,3.8),(5,8.8),(10,8)])"
   ]
  },
  {
   "cell_type": "code",
   "execution_count": 60,
   "metadata": {},
   "outputs": [
    {
     "data": {
      "text/plain": [
       "(17.1, [(1, 1.9), (1, 1.9), (1, 1.9), (1, 1.9), (1, 1.9), (2, 3.8), (2, 3.8)])"
      ]
     },
     "execution_count": 60,
     "metadata": {},
     "output_type": "execute_result"
    }
   ],
   "source": [
    "ks.maxValue()"
   ]
  },
  {
   "cell_type": "code",
   "execution_count": null,
   "metadata": {},
   "outputs": [],
   "source": []
  }
 ],
 "metadata": {
  "kernelspec": {
   "display_name": "Python 3",
   "language": "python",
   "name": "python3"
  },
  "language_info": {
   "codemirror_mode": {
    "name": "ipython",
    "version": 3
   },
   "file_extension": ".py",
   "mimetype": "text/x-python",
   "name": "python",
   "nbconvert_exporter": "python",
   "pygments_lexer": "ipython3",
   "version": "3.8.5"
  }
 },
 "nbformat": 4,
 "nbformat_minor": 4
}
